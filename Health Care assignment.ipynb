{
 "cells": [
  {
   "cell_type": "code",
   "execution_count": 58,
   "metadata": {},
   "outputs": [],
   "source": [
    "import numpy as np # linear algebra\n",
    "import pandas as pd # data processing, CSV file I/O (e.g. pd.read_csv)\n",
    "import matplotlib.pyplot as plt # for data visualization\n",
    "import seaborn as sns\n",
    "from sklearn import preprocessing\n",
    "from sklearn.preprocessing import MinMaxScaler\n",
    "sns.set(style='darkgrid')"
   ]
  },
  {
   "cell_type": "code",
   "execution_count": 59,
   "metadata": {},
   "outputs": [
    {
     "data": {
      "text/html": [
       "<div>\n",
       "<style scoped>\n",
       "    .dataframe tbody tr th:only-of-type {\n",
       "        vertical-align: middle;\n",
       "    }\n",
       "\n",
       "    .dataframe tbody tr th {\n",
       "        vertical-align: top;\n",
       "    }\n",
       "\n",
       "    .dataframe thead th {\n",
       "        text-align: right;\n",
       "    }\n",
       "</style>\n",
       "<table border=\"1\" class=\"dataframe\">\n",
       "  <thead>\n",
       "    <tr style=\"text-align: right;\">\n",
       "      <th></th>\n",
       "      <th>Age</th>\n",
       "      <th>Gender</th>\n",
       "      <th>AppointmentRegistration</th>\n",
       "      <th>ApointmentData</th>\n",
       "      <th>DayOfTheWeek</th>\n",
       "      <th>Status</th>\n",
       "      <th>Diabetes</th>\n",
       "      <th>Alcoolism</th>\n",
       "      <th>HiperTension</th>\n",
       "      <th>Handcap</th>\n",
       "      <th>Smokes</th>\n",
       "      <th>Scholarship</th>\n",
       "      <th>Tuberculosis</th>\n",
       "      <th>Sms_Reminder</th>\n",
       "      <th>AwaitingTime</th>\n",
       "    </tr>\n",
       "  </thead>\n",
       "  <tbody>\n",
       "    <tr>\n",
       "      <th>0</th>\n",
       "      <td>19</td>\n",
       "      <td>M</td>\n",
       "      <td>2014-12-16T14:46:25Z</td>\n",
       "      <td>2015-01-14T00:00:00Z</td>\n",
       "      <td>Wednesday</td>\n",
       "      <td>Show-Up</td>\n",
       "      <td>0</td>\n",
       "      <td>0</td>\n",
       "      <td>0</td>\n",
       "      <td>0</td>\n",
       "      <td>0</td>\n",
       "      <td>0</td>\n",
       "      <td>0</td>\n",
       "      <td>0</td>\n",
       "      <td>-29</td>\n",
       "    </tr>\n",
       "    <tr>\n",
       "      <th>1</th>\n",
       "      <td>24</td>\n",
       "      <td>F</td>\n",
       "      <td>2015-08-18T07:01:26Z</td>\n",
       "      <td>2015-08-19T00:00:00Z</td>\n",
       "      <td>Wednesday</td>\n",
       "      <td>Show-Up</td>\n",
       "      <td>0</td>\n",
       "      <td>0</td>\n",
       "      <td>0</td>\n",
       "      <td>0</td>\n",
       "      <td>0</td>\n",
       "      <td>0</td>\n",
       "      <td>0</td>\n",
       "      <td>0</td>\n",
       "      <td>-1</td>\n",
       "    </tr>\n",
       "    <tr>\n",
       "      <th>2</th>\n",
       "      <td>4</td>\n",
       "      <td>F</td>\n",
       "      <td>2014-02-17T12:53:46Z</td>\n",
       "      <td>2014-02-18T00:00:00Z</td>\n",
       "      <td>Tuesday</td>\n",
       "      <td>Show-Up</td>\n",
       "      <td>0</td>\n",
       "      <td>0</td>\n",
       "      <td>0</td>\n",
       "      <td>0</td>\n",
       "      <td>0</td>\n",
       "      <td>0</td>\n",
       "      <td>0</td>\n",
       "      <td>0</td>\n",
       "      <td>-1</td>\n",
       "    </tr>\n",
       "    <tr>\n",
       "      <th>3</th>\n",
       "      <td>5</td>\n",
       "      <td>M</td>\n",
       "      <td>2014-07-23T17:02:11Z</td>\n",
       "      <td>2014-08-07T00:00:00Z</td>\n",
       "      <td>Thursday</td>\n",
       "      <td>Show-Up</td>\n",
       "      <td>0</td>\n",
       "      <td>0</td>\n",
       "      <td>0</td>\n",
       "      <td>0</td>\n",
       "      <td>0</td>\n",
       "      <td>0</td>\n",
       "      <td>0</td>\n",
       "      <td>1</td>\n",
       "      <td>-15</td>\n",
       "    </tr>\n",
       "    <tr>\n",
       "      <th>4</th>\n",
       "      <td>38</td>\n",
       "      <td>M</td>\n",
       "      <td>2015-10-21T15:20:09Z</td>\n",
       "      <td>2015-10-27T00:00:00Z</td>\n",
       "      <td>Tuesday</td>\n",
       "      <td>Show-Up</td>\n",
       "      <td>0</td>\n",
       "      <td>0</td>\n",
       "      <td>0</td>\n",
       "      <td>0</td>\n",
       "      <td>0</td>\n",
       "      <td>0</td>\n",
       "      <td>0</td>\n",
       "      <td>1</td>\n",
       "      <td>-6</td>\n",
       "    </tr>\n",
       "  </tbody>\n",
       "</table>\n",
       "</div>"
      ],
      "text/plain": [
       "   Age Gender AppointmentRegistration        ApointmentData DayOfTheWeek  \\\n",
       "0   19      M    2014-12-16T14:46:25Z  2015-01-14T00:00:00Z    Wednesday   \n",
       "1   24      F    2015-08-18T07:01:26Z  2015-08-19T00:00:00Z    Wednesday   \n",
       "2    4      F    2014-02-17T12:53:46Z  2014-02-18T00:00:00Z      Tuesday   \n",
       "3    5      M    2014-07-23T17:02:11Z  2014-08-07T00:00:00Z     Thursday   \n",
       "4   38      M    2015-10-21T15:20:09Z  2015-10-27T00:00:00Z      Tuesday   \n",
       "\n",
       "    Status  Diabetes  Alcoolism  HiperTension  Handcap  Smokes  Scholarship  \\\n",
       "0  Show-Up         0          0             0        0       0            0   \n",
       "1  Show-Up         0          0             0        0       0            0   \n",
       "2  Show-Up         0          0             0        0       0            0   \n",
       "3  Show-Up         0          0             0        0       0            0   \n",
       "4  Show-Up         0          0             0        0       0            0   \n",
       "\n",
       "   Tuberculosis  Sms_Reminder  AwaitingTime  \n",
       "0             0             0           -29  \n",
       "1             0             0            -1  \n",
       "2             0             0            -1  \n",
       "3             0             1           -15  \n",
       "4             0             1            -6  "
      ]
     },
     "execution_count": 59,
     "metadata": {},
     "output_type": "execute_result"
    }
   ],
   "source": [
    "df = pd.read_csv(\"healthcare appointment data.csv\")\n",
    "df.head()"
   ]
  },
  {
   "cell_type": "code",
   "execution_count": 60,
   "metadata": {},
   "outputs": [
    {
     "data": {
      "text/plain": [
       "False"
      ]
     },
     "execution_count": 60,
     "metadata": {},
     "output_type": "execute_result"
    }
   ],
   "source": [
    "#Finding out any missed or null values in the dataset\n",
    "df.isnull().values.any()"
   ]
  },
  {
   "cell_type": "code",
   "execution_count": 61,
   "metadata": {},
   "outputs": [
    {
     "name": "stdout",
     "output_type": "stream",
     "text": [
      "7\n",
      "2\n",
      "2\n",
      "2\n",
      "2\n",
      "2\n",
      "5\n",
      "2\n",
      "2\n",
      "2\n",
      "3\n",
      "213\n"
     ]
    }
   ],
   "source": [
    "# to find each column has atleast 2 different values so we can predict the output\n",
    "print(df.DayOfTheWeek.nunique(dropna = True))\n",
    "print(df.Gender.nunique(dropna = True))\n",
    "print(df.Status.nunique(dropna = True))\n",
    "print(df.Diabetes.nunique(dropna = True))\n",
    "print(df.Alcoolism.nunique(dropna = True)) \n",
    "print(df.HiperTension.nunique(dropna = True))\n",
    "print(df.Handcap.nunique(dropna = True))\n",
    "print(df.Smokes.nunique(dropna = True))\n",
    "print(df.Scholarship.nunique(dropna = True))\n",
    "print(df.Tuberculosis.nunique(dropna = True)) \n",
    "print(df.Sms_Reminder.nunique(dropna = True))\n",
    "print(df.AwaitingTime.nunique(dropna = True)) "
   ]
  },
  {
   "cell_type": "code",
   "execution_count": 62,
   "metadata": {},
   "outputs": [
    {
     "data": {
      "text/html": [
       "<div>\n",
       "<style scoped>\n",
       "    .dataframe tbody tr th:only-of-type {\n",
       "        vertical-align: middle;\n",
       "    }\n",
       "\n",
       "    .dataframe tbody tr th {\n",
       "        vertical-align: top;\n",
       "    }\n",
       "\n",
       "    .dataframe thead th {\n",
       "        text-align: right;\n",
       "    }\n",
       "</style>\n",
       "<table border=\"1\" class=\"dataframe\">\n",
       "  <thead>\n",
       "    <tr style=\"text-align: right;\">\n",
       "      <th></th>\n",
       "      <th>Age</th>\n",
       "      <th>Gender</th>\n",
       "      <th>AppointmentRegistration</th>\n",
       "      <th>ApointmentDate</th>\n",
       "      <th>DayOfTheWeek</th>\n",
       "      <th>Status</th>\n",
       "      <th>Diabetes</th>\n",
       "      <th>Alcoholism</th>\n",
       "      <th>HyperTension</th>\n",
       "      <th>Handcap</th>\n",
       "      <th>Smokes</th>\n",
       "      <th>Scholarship</th>\n",
       "      <th>Tuberculosis</th>\n",
       "      <th>Sms_Reminder</th>\n",
       "      <th>AwaitingTime</th>\n",
       "    </tr>\n",
       "  </thead>\n",
       "  <tbody>\n",
       "    <tr>\n",
       "      <th>0</th>\n",
       "      <td>19</td>\n",
       "      <td>M</td>\n",
       "      <td>2014-12-16T14:46:25Z</td>\n",
       "      <td>2015-01-14T00:00:00Z</td>\n",
       "      <td>Wednesday</td>\n",
       "      <td>Show-Up</td>\n",
       "      <td>0</td>\n",
       "      <td>0</td>\n",
       "      <td>0</td>\n",
       "      <td>0</td>\n",
       "      <td>0</td>\n",
       "      <td>0</td>\n",
       "      <td>0</td>\n",
       "      <td>0</td>\n",
       "      <td>-29</td>\n",
       "    </tr>\n",
       "    <tr>\n",
       "      <th>1</th>\n",
       "      <td>24</td>\n",
       "      <td>F</td>\n",
       "      <td>2015-08-18T07:01:26Z</td>\n",
       "      <td>2015-08-19T00:00:00Z</td>\n",
       "      <td>Wednesday</td>\n",
       "      <td>Show-Up</td>\n",
       "      <td>0</td>\n",
       "      <td>0</td>\n",
       "      <td>0</td>\n",
       "      <td>0</td>\n",
       "      <td>0</td>\n",
       "      <td>0</td>\n",
       "      <td>0</td>\n",
       "      <td>0</td>\n",
       "      <td>-1</td>\n",
       "    </tr>\n",
       "    <tr>\n",
       "      <th>2</th>\n",
       "      <td>4</td>\n",
       "      <td>F</td>\n",
       "      <td>2014-02-17T12:53:46Z</td>\n",
       "      <td>2014-02-18T00:00:00Z</td>\n",
       "      <td>Tuesday</td>\n",
       "      <td>Show-Up</td>\n",
       "      <td>0</td>\n",
       "      <td>0</td>\n",
       "      <td>0</td>\n",
       "      <td>0</td>\n",
       "      <td>0</td>\n",
       "      <td>0</td>\n",
       "      <td>0</td>\n",
       "      <td>0</td>\n",
       "      <td>-1</td>\n",
       "    </tr>\n",
       "    <tr>\n",
       "      <th>3</th>\n",
       "      <td>5</td>\n",
       "      <td>M</td>\n",
       "      <td>2014-07-23T17:02:11Z</td>\n",
       "      <td>2014-08-07T00:00:00Z</td>\n",
       "      <td>Thursday</td>\n",
       "      <td>Show-Up</td>\n",
       "      <td>0</td>\n",
       "      <td>0</td>\n",
       "      <td>0</td>\n",
       "      <td>0</td>\n",
       "      <td>0</td>\n",
       "      <td>0</td>\n",
       "      <td>0</td>\n",
       "      <td>1</td>\n",
       "      <td>-15</td>\n",
       "    </tr>\n",
       "    <tr>\n",
       "      <th>4</th>\n",
       "      <td>38</td>\n",
       "      <td>M</td>\n",
       "      <td>2015-10-21T15:20:09Z</td>\n",
       "      <td>2015-10-27T00:00:00Z</td>\n",
       "      <td>Tuesday</td>\n",
       "      <td>Show-Up</td>\n",
       "      <td>0</td>\n",
       "      <td>0</td>\n",
       "      <td>0</td>\n",
       "      <td>0</td>\n",
       "      <td>0</td>\n",
       "      <td>0</td>\n",
       "      <td>0</td>\n",
       "      <td>1</td>\n",
       "      <td>-6</td>\n",
       "    </tr>\n",
       "  </tbody>\n",
       "</table>\n",
       "</div>"
      ],
      "text/plain": [
       "   Age Gender AppointmentRegistration        ApointmentDate DayOfTheWeek  \\\n",
       "0   19      M    2014-12-16T14:46:25Z  2015-01-14T00:00:00Z    Wednesday   \n",
       "1   24      F    2015-08-18T07:01:26Z  2015-08-19T00:00:00Z    Wednesday   \n",
       "2    4      F    2014-02-17T12:53:46Z  2014-02-18T00:00:00Z      Tuesday   \n",
       "3    5      M    2014-07-23T17:02:11Z  2014-08-07T00:00:00Z     Thursday   \n",
       "4   38      M    2015-10-21T15:20:09Z  2015-10-27T00:00:00Z      Tuesday   \n",
       "\n",
       "    Status  Diabetes  Alcoholism  HyperTension  Handcap  Smokes  Scholarship  \\\n",
       "0  Show-Up         0           0             0        0       0            0   \n",
       "1  Show-Up         0           0             0        0       0            0   \n",
       "2  Show-Up         0           0             0        0       0            0   \n",
       "3  Show-Up         0           0             0        0       0            0   \n",
       "4  Show-Up         0           0             0        0       0            0   \n",
       "\n",
       "   Tuberculosis  Sms_Reminder  AwaitingTime  \n",
       "0             0             0           -29  \n",
       "1             0             0            -1  \n",
       "2             0             0            -1  \n",
       "3             0             1           -15  \n",
       "4             0             1            -6  "
      ]
     },
     "execution_count": 62,
     "metadata": {},
     "output_type": "execute_result"
    }
   ],
   "source": [
    "# There are some typos in the column names like alcoholism, HyperTension, so renaming them.\n",
    "df.rename(columns={'Alcoolism': 'Alcoholism', 'HiperTension': 'HyperTension','ApointmentData':'ApointmentDate'}, inplace=True)\n",
    "df.head()"
   ]
  },
  {
   "cell_type": "code",
   "execution_count": 63,
   "metadata": {},
   "outputs": [
    {
     "data": {
      "text/html": [
       "<div>\n",
       "<style scoped>\n",
       "    .dataframe tbody tr th:only-of-type {\n",
       "        vertical-align: middle;\n",
       "    }\n",
       "\n",
       "    .dataframe tbody tr th {\n",
       "        vertical-align: top;\n",
       "    }\n",
       "\n",
       "    .dataframe thead th {\n",
       "        text-align: right;\n",
       "    }\n",
       "</style>\n",
       "<table border=\"1\" class=\"dataframe\">\n",
       "  <thead>\n",
       "    <tr style=\"text-align: right;\">\n",
       "      <th></th>\n",
       "      <th>Age</th>\n",
       "      <th>Gender</th>\n",
       "      <th>AppointmentRegistration</th>\n",
       "      <th>ApointmentDate</th>\n",
       "      <th>DayOfTheWeek</th>\n",
       "      <th>Status</th>\n",
       "      <th>Diabetes</th>\n",
       "      <th>Alcoholism</th>\n",
       "      <th>HyperTension</th>\n",
       "      <th>Handcap</th>\n",
       "      <th>Smokes</th>\n",
       "      <th>Scholarship</th>\n",
       "      <th>Tuberculosis</th>\n",
       "      <th>Sms_Reminder</th>\n",
       "      <th>AwaitingTime</th>\n",
       "    </tr>\n",
       "  </thead>\n",
       "  <tbody>\n",
       "    <tr>\n",
       "      <th>0</th>\n",
       "      <td>19</td>\n",
       "      <td>M</td>\n",
       "      <td>2014-12-16 14:46:25+00:00</td>\n",
       "      <td>2015-01-14 00:00:00+00:00</td>\n",
       "      <td>Wednesday</td>\n",
       "      <td>Show-Up</td>\n",
       "      <td>0</td>\n",
       "      <td>0</td>\n",
       "      <td>0</td>\n",
       "      <td>0</td>\n",
       "      <td>0</td>\n",
       "      <td>0</td>\n",
       "      <td>0</td>\n",
       "      <td>0</td>\n",
       "      <td>29</td>\n",
       "    </tr>\n",
       "    <tr>\n",
       "      <th>1</th>\n",
       "      <td>24</td>\n",
       "      <td>F</td>\n",
       "      <td>2015-08-18 07:01:26+00:00</td>\n",
       "      <td>2015-08-19 00:00:00+00:00</td>\n",
       "      <td>Wednesday</td>\n",
       "      <td>Show-Up</td>\n",
       "      <td>0</td>\n",
       "      <td>0</td>\n",
       "      <td>0</td>\n",
       "      <td>0</td>\n",
       "      <td>0</td>\n",
       "      <td>0</td>\n",
       "      <td>0</td>\n",
       "      <td>0</td>\n",
       "      <td>1</td>\n",
       "    </tr>\n",
       "    <tr>\n",
       "      <th>2</th>\n",
       "      <td>4</td>\n",
       "      <td>F</td>\n",
       "      <td>2014-02-17 12:53:46+00:00</td>\n",
       "      <td>2014-02-18 00:00:00+00:00</td>\n",
       "      <td>Tuesday</td>\n",
       "      <td>Show-Up</td>\n",
       "      <td>0</td>\n",
       "      <td>0</td>\n",
       "      <td>0</td>\n",
       "      <td>0</td>\n",
       "      <td>0</td>\n",
       "      <td>0</td>\n",
       "      <td>0</td>\n",
       "      <td>0</td>\n",
       "      <td>1</td>\n",
       "    </tr>\n",
       "    <tr>\n",
       "      <th>3</th>\n",
       "      <td>5</td>\n",
       "      <td>M</td>\n",
       "      <td>2014-07-23 17:02:11+00:00</td>\n",
       "      <td>2014-08-07 00:00:00+00:00</td>\n",
       "      <td>Thursday</td>\n",
       "      <td>Show-Up</td>\n",
       "      <td>0</td>\n",
       "      <td>0</td>\n",
       "      <td>0</td>\n",
       "      <td>0</td>\n",
       "      <td>0</td>\n",
       "      <td>0</td>\n",
       "      <td>0</td>\n",
       "      <td>1</td>\n",
       "      <td>15</td>\n",
       "    </tr>\n",
       "    <tr>\n",
       "      <th>4</th>\n",
       "      <td>38</td>\n",
       "      <td>M</td>\n",
       "      <td>2015-10-21 15:20:09+00:00</td>\n",
       "      <td>2015-10-27 00:00:00+00:00</td>\n",
       "      <td>Tuesday</td>\n",
       "      <td>Show-Up</td>\n",
       "      <td>0</td>\n",
       "      <td>0</td>\n",
       "      <td>0</td>\n",
       "      <td>0</td>\n",
       "      <td>0</td>\n",
       "      <td>0</td>\n",
       "      <td>0</td>\n",
       "      <td>1</td>\n",
       "      <td>6</td>\n",
       "    </tr>\n",
       "  </tbody>\n",
       "</table>\n",
       "</div>"
      ],
      "text/plain": [
       "   Age Gender   AppointmentRegistration            ApointmentDate  \\\n",
       "0   19      M 2014-12-16 14:46:25+00:00 2015-01-14 00:00:00+00:00   \n",
       "1   24      F 2015-08-18 07:01:26+00:00 2015-08-19 00:00:00+00:00   \n",
       "2    4      F 2014-02-17 12:53:46+00:00 2014-02-18 00:00:00+00:00   \n",
       "3    5      M 2014-07-23 17:02:11+00:00 2014-08-07 00:00:00+00:00   \n",
       "4   38      M 2015-10-21 15:20:09+00:00 2015-10-27 00:00:00+00:00   \n",
       "\n",
       "  DayOfTheWeek   Status  Diabetes  Alcoholism  HyperTension  Handcap  Smokes  \\\n",
       "0    Wednesday  Show-Up         0           0             0        0       0   \n",
       "1    Wednesday  Show-Up         0           0             0        0       0   \n",
       "2      Tuesday  Show-Up         0           0             0        0       0   \n",
       "3     Thursday  Show-Up         0           0             0        0       0   \n",
       "4      Tuesday  Show-Up         0           0             0        0       0   \n",
       "\n",
       "   Scholarship  Tuberculosis  Sms_Reminder  AwaitingTime  \n",
       "0            0             0             0            29  \n",
       "1            0             0             0             1  \n",
       "2            0             0             0             1  \n",
       "3            0             0             1            15  \n",
       "4            0             0             1             6  "
      ]
     },
     "execution_count": 63,
     "metadata": {},
     "output_type": "execute_result"
    }
   ],
   "source": [
    "# converting AppointmentRegistration and AppointmentDate into proper datetime formats and converting Awaiting time values into postive numbers\n",
    "df['AppointmentRegistration'] = pd.to_datetime(df['AppointmentRegistration'])\n",
    "df['ApointmentDate'] = pd.to_datetime(df['ApointmentDate'])\n",
    "df.AwaitingTime = df.AwaitingTime.abs() \n",
    "df.head()"
   ]
  },
  {
   "cell_type": "code",
   "execution_count": 64,
   "metadata": {},
   "outputs": [
    {
     "data": {
      "text/html": [
       "<div>\n",
       "<style scoped>\n",
       "    .dataframe tbody tr th:only-of-type {\n",
       "        vertical-align: middle;\n",
       "    }\n",
       "\n",
       "    .dataframe tbody tr th {\n",
       "        vertical-align: top;\n",
       "    }\n",
       "\n",
       "    .dataframe thead th {\n",
       "        text-align: right;\n",
       "    }\n",
       "</style>\n",
       "<table border=\"1\" class=\"dataframe\">\n",
       "  <thead>\n",
       "    <tr style=\"text-align: right;\">\n",
       "      <th></th>\n",
       "      <th>Age</th>\n",
       "      <th>Gender</th>\n",
       "      <th>AppointmentRegistration</th>\n",
       "      <th>ApointmentDate</th>\n",
       "      <th>DayOfTheWeek</th>\n",
       "      <th>Status</th>\n",
       "      <th>Diabetes</th>\n",
       "      <th>Alcoholism</th>\n",
       "      <th>HyperTension</th>\n",
       "      <th>Handcap</th>\n",
       "      <th>Smokes</th>\n",
       "      <th>Scholarship</th>\n",
       "      <th>Tuberculosis</th>\n",
       "      <th>Sms_Reminder</th>\n",
       "      <th>AwaitingTime</th>\n",
       "      <th>HourOfTheDay</th>\n",
       "    </tr>\n",
       "  </thead>\n",
       "  <tbody>\n",
       "    <tr>\n",
       "      <th>0</th>\n",
       "      <td>19</td>\n",
       "      <td>M</td>\n",
       "      <td>2014-12-16 14:46:25+00:00</td>\n",
       "      <td>2015-01-14 00:00:00+00:00</td>\n",
       "      <td>Wednesday</td>\n",
       "      <td>Show-Up</td>\n",
       "      <td>0</td>\n",
       "      <td>0</td>\n",
       "      <td>0</td>\n",
       "      <td>0</td>\n",
       "      <td>0</td>\n",
       "      <td>0</td>\n",
       "      <td>0</td>\n",
       "      <td>0</td>\n",
       "      <td>29</td>\n",
       "      <td>14</td>\n",
       "    </tr>\n",
       "    <tr>\n",
       "      <th>1</th>\n",
       "      <td>24</td>\n",
       "      <td>F</td>\n",
       "      <td>2015-08-18 07:01:26+00:00</td>\n",
       "      <td>2015-08-19 00:00:00+00:00</td>\n",
       "      <td>Wednesday</td>\n",
       "      <td>Show-Up</td>\n",
       "      <td>0</td>\n",
       "      <td>0</td>\n",
       "      <td>0</td>\n",
       "      <td>0</td>\n",
       "      <td>0</td>\n",
       "      <td>0</td>\n",
       "      <td>0</td>\n",
       "      <td>0</td>\n",
       "      <td>1</td>\n",
       "      <td>7</td>\n",
       "    </tr>\n",
       "    <tr>\n",
       "      <th>2</th>\n",
       "      <td>4</td>\n",
       "      <td>F</td>\n",
       "      <td>2014-02-17 12:53:46+00:00</td>\n",
       "      <td>2014-02-18 00:00:00+00:00</td>\n",
       "      <td>Tuesday</td>\n",
       "      <td>Show-Up</td>\n",
       "      <td>0</td>\n",
       "      <td>0</td>\n",
       "      <td>0</td>\n",
       "      <td>0</td>\n",
       "      <td>0</td>\n",
       "      <td>0</td>\n",
       "      <td>0</td>\n",
       "      <td>0</td>\n",
       "      <td>1</td>\n",
       "      <td>12</td>\n",
       "    </tr>\n",
       "    <tr>\n",
       "      <th>3</th>\n",
       "      <td>5</td>\n",
       "      <td>M</td>\n",
       "      <td>2014-07-23 17:02:11+00:00</td>\n",
       "      <td>2014-08-07 00:00:00+00:00</td>\n",
       "      <td>Thursday</td>\n",
       "      <td>Show-Up</td>\n",
       "      <td>0</td>\n",
       "      <td>0</td>\n",
       "      <td>0</td>\n",
       "      <td>0</td>\n",
       "      <td>0</td>\n",
       "      <td>0</td>\n",
       "      <td>0</td>\n",
       "      <td>1</td>\n",
       "      <td>15</td>\n",
       "      <td>17</td>\n",
       "    </tr>\n",
       "    <tr>\n",
       "      <th>4</th>\n",
       "      <td>38</td>\n",
       "      <td>M</td>\n",
       "      <td>2015-10-21 15:20:09+00:00</td>\n",
       "      <td>2015-10-27 00:00:00+00:00</td>\n",
       "      <td>Tuesday</td>\n",
       "      <td>Show-Up</td>\n",
       "      <td>0</td>\n",
       "      <td>0</td>\n",
       "      <td>0</td>\n",
       "      <td>0</td>\n",
       "      <td>0</td>\n",
       "      <td>0</td>\n",
       "      <td>0</td>\n",
       "      <td>1</td>\n",
       "      <td>6</td>\n",
       "      <td>15</td>\n",
       "    </tr>\n",
       "  </tbody>\n",
       "</table>\n",
       "</div>"
      ],
      "text/plain": [
       "   Age Gender   AppointmentRegistration            ApointmentDate  \\\n",
       "0   19      M 2014-12-16 14:46:25+00:00 2015-01-14 00:00:00+00:00   \n",
       "1   24      F 2015-08-18 07:01:26+00:00 2015-08-19 00:00:00+00:00   \n",
       "2    4      F 2014-02-17 12:53:46+00:00 2014-02-18 00:00:00+00:00   \n",
       "3    5      M 2014-07-23 17:02:11+00:00 2014-08-07 00:00:00+00:00   \n",
       "4   38      M 2015-10-21 15:20:09+00:00 2015-10-27 00:00:00+00:00   \n",
       "\n",
       "  DayOfTheWeek   Status  Diabetes  Alcoholism  HyperTension  Handcap  Smokes  \\\n",
       "0    Wednesday  Show-Up         0           0             0        0       0   \n",
       "1    Wednesday  Show-Up         0           0             0        0       0   \n",
       "2      Tuesday  Show-Up         0           0             0        0       0   \n",
       "3     Thursday  Show-Up         0           0             0        0       0   \n",
       "4      Tuesday  Show-Up         0           0             0        0       0   \n",
       "\n",
       "   Scholarship  Tuberculosis  Sms_Reminder  AwaitingTime  HourOfTheDay  \n",
       "0            0             0             0            29            14  \n",
       "1            0             0             0             1             7  \n",
       "2            0             0             0             1            12  \n",
       "3            0             0             1            15            17  \n",
       "4            0             0             1             6            15  "
      ]
     },
     "execution_count": 64,
     "metadata": {},
     "output_type": "execute_result"
    }
   ],
   "source": [
    "# creating a new column HourOfTheDay indicating the hour of the day at which the appointment was booked\n",
    "df['HourOfTheDay'] = pd.to_datetime(df['AppointmentRegistration']).dt.hour\n",
    "df.head()"
   ]
  },
  {
   "cell_type": "code",
   "execution_count": 65,
   "metadata": {},
   "outputs": [
    {
     "name": "stdout",
     "output_type": "stream",
     "text": [
      "count    300000.000000\n",
      "mean         37.808017\n",
      "std          22.809014\n",
      "min          -2.000000\n",
      "25%          19.000000\n",
      "50%          38.000000\n",
      "75%          56.000000\n",
      "max         113.000000\n",
      "Name: Age, dtype: float64\n"
     ]
    },
    {
     "data": {
      "text/plain": [
       "<matplotlib.axes._subplots.AxesSubplot at 0x2e78da2d6a0>"
      ]
     },
     "execution_count": 65,
     "metadata": {},
     "output_type": "execute_result"
    },
    {
     "data": {
      "image/png": "[encoded data removed]",
      "text/plain": [
       "<Figure size 432x288 with 1 Axes>"
      ]
     },
     "metadata": {},
     "output_type": "display_data"
    }
   ],
   "source": [
    "#Identify and remove outliers from Age\n",
    "print(df.Age.describe())\n",
    "sns.boxplot(x=df['Age'])"
   ]
  },
  {
   "cell_type": "code",
   "execution_count": 66,
   "metadata": {},
   "outputs": [
    {
     "name": "stdout",
     "output_type": "stream",
     "text": [
      "(300000, 16)\n",
      "(299275, 16)\n"
     ]
    }
   ],
   "source": [
    "# the values that are exceeding 100 can be considered as outliers and graph is extended till negative values,\n",
    "# expecting avg life expectancy as 90 and removing all higher values\n",
    "# as they are outlier we are removing the rows with those entires\n",
    "print(df.shape)\n",
    "df = df.drop(df[(df.Age > 90) | (df.Age < 0)].index)\n",
    "print(df.shape)"
   ]
  },
  {
   "cell_type": "code",
   "execution_count": 67,
   "metadata": {},
   "outputs": [
    {
     "data": {
      "text/html": [
       "<div>\n",
       "<style scoped>\n",
       "    .dataframe tbody tr th:only-of-type {\n",
       "        vertical-align: middle;\n",
       "    }\n",
       "\n",
       "    .dataframe tbody tr th {\n",
       "        vertical-align: top;\n",
       "    }\n",
       "\n",
       "    .dataframe thead th {\n",
       "        text-align: right;\n",
       "    }\n",
       "</style>\n",
       "<table border=\"1\" class=\"dataframe\">\n",
       "  <thead>\n",
       "    <tr style=\"text-align: right;\">\n",
       "      <th></th>\n",
       "      <th>Age</th>\n",
       "      <th>Gender</th>\n",
       "      <th>AppointmentRegistration</th>\n",
       "      <th>ApointmentDate</th>\n",
       "      <th>DayOfTheWeek</th>\n",
       "      <th>Status</th>\n",
       "      <th>Diabetes</th>\n",
       "      <th>Alcoholism</th>\n",
       "      <th>HyperTension</th>\n",
       "      <th>Handcap</th>\n",
       "      <th>Smokes</th>\n",
       "      <th>Scholarship</th>\n",
       "      <th>Tuberculosis</th>\n",
       "      <th>Sms_Reminder</th>\n",
       "      <th>AwaitingTime</th>\n",
       "      <th>HourOfTheDay</th>\n",
       "    </tr>\n",
       "  </thead>\n",
       "  <tbody>\n",
       "    <tr>\n",
       "      <th>0</th>\n",
       "      <td>19</td>\n",
       "      <td>M</td>\n",
       "      <td>2014-12-16 14:46:25+00:00</td>\n",
       "      <td>2015-01-14 00:00:00+00:00</td>\n",
       "      <td>Wednesday</td>\n",
       "      <td>1</td>\n",
       "      <td>0</td>\n",
       "      <td>0</td>\n",
       "      <td>0</td>\n",
       "      <td>0</td>\n",
       "      <td>0</td>\n",
       "      <td>0</td>\n",
       "      <td>0</td>\n",
       "      <td>0</td>\n",
       "      <td>29</td>\n",
       "      <td>14</td>\n",
       "    </tr>\n",
       "    <tr>\n",
       "      <th>1</th>\n",
       "      <td>24</td>\n",
       "      <td>F</td>\n",
       "      <td>2015-08-18 07:01:26+00:00</td>\n",
       "      <td>2015-08-19 00:00:00+00:00</td>\n",
       "      <td>Wednesday</td>\n",
       "      <td>1</td>\n",
       "      <td>0</td>\n",
       "      <td>0</td>\n",
       "      <td>0</td>\n",
       "      <td>0</td>\n",
       "      <td>0</td>\n",
       "      <td>0</td>\n",
       "      <td>0</td>\n",
       "      <td>0</td>\n",
       "      <td>1</td>\n",
       "      <td>7</td>\n",
       "    </tr>\n",
       "    <tr>\n",
       "      <th>2</th>\n",
       "      <td>4</td>\n",
       "      <td>F</td>\n",
       "      <td>2014-02-17 12:53:46+00:00</td>\n",
       "      <td>2014-02-18 00:00:00+00:00</td>\n",
       "      <td>Tuesday</td>\n",
       "      <td>1</td>\n",
       "      <td>0</td>\n",
       "      <td>0</td>\n",
       "      <td>0</td>\n",
       "      <td>0</td>\n",
       "      <td>0</td>\n",
       "      <td>0</td>\n",
       "      <td>0</td>\n",
       "      <td>0</td>\n",
       "      <td>1</td>\n",
       "      <td>12</td>\n",
       "    </tr>\n",
       "    <tr>\n",
       "      <th>3</th>\n",
       "      <td>5</td>\n",
       "      <td>M</td>\n",
       "      <td>2014-07-23 17:02:11+00:00</td>\n",
       "      <td>2014-08-07 00:00:00+00:00</td>\n",
       "      <td>Thursday</td>\n",
       "      <td>1</td>\n",
       "      <td>0</td>\n",
       "      <td>0</td>\n",
       "      <td>0</td>\n",
       "      <td>0</td>\n",
       "      <td>0</td>\n",
       "      <td>0</td>\n",
       "      <td>0</td>\n",
       "      <td>1</td>\n",
       "      <td>15</td>\n",
       "      <td>17</td>\n",
       "    </tr>\n",
       "    <tr>\n",
       "      <th>4</th>\n",
       "      <td>38</td>\n",
       "      <td>M</td>\n",
       "      <td>2015-10-21 15:20:09+00:00</td>\n",
       "      <td>2015-10-27 00:00:00+00:00</td>\n",
       "      <td>Tuesday</td>\n",
       "      <td>1</td>\n",
       "      <td>0</td>\n",
       "      <td>0</td>\n",
       "      <td>0</td>\n",
       "      <td>0</td>\n",
       "      <td>0</td>\n",
       "      <td>0</td>\n",
       "      <td>0</td>\n",
       "      <td>1</td>\n",
       "      <td>6</td>\n",
       "      <td>15</td>\n",
       "    </tr>\n",
       "  </tbody>\n",
       "</table>\n",
       "</div>"
      ],
      "text/plain": [
       "   Age Gender   AppointmentRegistration            ApointmentDate  \\\n",
       "0   19      M 2014-12-16 14:46:25+00:00 2015-01-14 00:00:00+00:00   \n",
       "1   24      F 2015-08-18 07:01:26+00:00 2015-08-19 00:00:00+00:00   \n",
       "2    4      F 2014-02-17 12:53:46+00:00 2014-02-18 00:00:00+00:00   \n",
       "3    5      M 2014-07-23 17:02:11+00:00 2014-08-07 00:00:00+00:00   \n",
       "4   38      M 2015-10-21 15:20:09+00:00 2015-10-27 00:00:00+00:00   \n",
       "\n",
       "  DayOfTheWeek  Status  Diabetes  Alcoholism  HyperTension  Handcap  Smokes  \\\n",
       "0    Wednesday       1         0           0             0        0       0   \n",
       "1    Wednesday       1         0           0             0        0       0   \n",
       "2      Tuesday       1         0           0             0        0       0   \n",
       "3     Thursday       1         0           0             0        0       0   \n",
       "4      Tuesday       1         0           0             0        0       0   \n",
       "\n",
       "   Scholarship  Tuberculosis  Sms_Reminder  AwaitingTime  HourOfTheDay  \n",
       "0            0             0             0            29            14  \n",
       "1            0             0             0             1             7  \n",
       "2            0             0             0             1            12  \n",
       "3            0             0             1            15            17  \n",
       "4            0             0             1             6            15  "
      ]
     },
     "execution_count": 67,
     "metadata": {},
     "output_type": "execute_result"
    }
   ],
   "source": [
    "binary = {'Show-Up': 1,'No-Show': 0}\n",
    "df[\"Status\"]= [binary[item] for item in df[\"Status\"]]\n",
    "df.head()"
   ]
  },
  {
   "cell_type": "code",
   "execution_count": 68,
   "metadata": {},
   "outputs": [
    {
     "data": {
      "image/png": "[encoded data removed]",
      "text/plain": [
       "<Figure size 333.725x288 with 2 Axes>"
      ]
     },
     "metadata": {},
     "output_type": "display_data"
    }
   ],
   "source": [
    "sns.pairplot(df, vars = ['Age'], diag_kind = 'kde', hue = 'Status', height = 4,palette=[\"K\", \"C6\"]);"
   ]
  },
  {
   "cell_type": "code",
   "execution_count": 69,
   "metadata": {},
   "outputs": [
    {
     "data": {
      "image/png": "[encoded data removed]",
      "text/plain": [
       "<Figure size 333.725x288 with 2 Axes>"
      ]
     },
     "metadata": {},
     "output_type": "display_data"
    }
   ],
   "source": [
    "sns.pairplot(df, vars = ['AwaitingTime'], diag_kind = 'kde', hue = 'Status', height = 4,palette=[\"K\", \"C6\"]);"
   ]
  },
  {
   "cell_type": "code",
   "execution_count": 70,
   "metadata": {},
   "outputs": [
    {
     "data": {
      "image/png": "[encoded data removed]",
      "text/plain": [
       "<Figure size 333.725x288 with 2 Axes>"
      ]
     },
     "metadata": {},
     "output_type": "display_data"
    }
   ],
   "source": [
    "sns.pairplot(df, vars = ['HourOfTheDay'], diag_kind = 'kde', hue = 'Status', height = 4,palette=[\"K\", \"C6\"]);"
   ]
  },
  {
   "cell_type": "code",
   "execution_count": 71,
   "metadata": {},
   "outputs": [
    {
     "data": {
      "image/png": "[encoded data removed]",
      "text/plain": [
       "<Figure size 1080x1080 with 6 Axes>"
      ]
     },
     "metadata": {},
     "output_type": "display_data"
    }
   ],
   "source": [
    "features=['Diabetes','Alcoholism', 'HyperTension','Tuberculosis','Smokes', 'Scholarship']\n",
    "fig,ax=plt.subplots(3,2,figsize=(15,15))\n",
    "for variable,subplot in zip(features,ax.flatten()):\n",
    "    sns.countplot(df[variable],ax=subplot)\n",
    "    for label in subplot.get_xticklabels():\n",
    "        label.set_rotation(90)"
   ]
  },
  {
   "cell_type": "code",
   "execution_count": 78,
   "metadata": {},
   "outputs": [
    {
     "data": {
      "image/png": "[encoded data removed]",
      "text/plain": [
       "<Figure size 432x288 with 1 Axes>"
      ]
     },
     "metadata": {},
     "output_type": "display_data"
    }
   ],
   "source": [
    "ax = sns.countplot(df['Age'],label=\"Count\")   "
   ]
  },
  {
   "cell_type": "code",
   "execution_count": 73,
   "metadata": {},
   "outputs": [
    {
     "data": {
      "image/png": "[encoded data removed]",
      "text/plain": [
       "<Figure size 432x288 with 1 Axes>"
      ]
     },
     "metadata": {},
     "output_type": "display_data"
    }
   ],
   "source": [
    "ax = sns.countplot(df['DayOfTheWeek'],label=\"Count\") "
   ]
  },
  {
   "cell_type": "code",
   "execution_count": 74,
   "metadata": {},
   "outputs": [
    {
     "data": {
      "image/png": "[encoded data removed]",
      "text/plain": [
       "<Figure size 432x288 with 1 Axes>"
      ]
     },
     "metadata": {},
     "output_type": "display_data"
    }
   ],
   "source": [
    "ax = sns.countplot(df['Sms_Reminder'],label=\"Count\")"
   ]
  },
  {
   "cell_type": "code",
   "execution_count": 80,
   "metadata": {},
   "outputs": [
    {
     "data": {
      "text/plain": [
       "Age                                               24\n",
       "Gender                                             F\n",
       "AppointmentRegistration    2015-08-18 07:01:26+00:00\n",
       "ApointmentDate             2015-08-19 00:00:00+00:00\n",
       "DayOfTheWeek                               Wednesday\n",
       "Status                                             1\n",
       "Diabetes                                           0\n",
       "Alcoholism                                         0\n",
       "HyperTension                                       0\n",
       "Handcap                                            0\n",
       "Smokes                                             0\n",
       "Scholarship                                        0\n",
       "Tuberculosis                                       0\n",
       "Sms_Reminder                                       0\n",
       "AwaitingTime                                       1\n",
       "HourOfTheDay                                       7\n",
       "Name: 1, dtype: object"
      ]
     },
     "execution_count": 80,
     "metadata": {},
     "output_type": "execute_result"
    }
   ],
   "source": [
    "df.loc[1]"
   ]
  },
  {
   "cell_type": "markdown",
   "metadata": {},
   "source": [
    "Paramters:\n",
    "\tAge\n",
    "\tDiabetes\n",
    "\tAlchoholism\n",
    "\tHypertension\n",
    "\tSmokes\n",
    "\tScholarship\n",
    "\tTuberculosis"
   ]
  },
  {
   "cell_type": "code",
   "execution_count": 83,
   "metadata": {},
   "outputs": [
    {
     "data": {
      "text/html": [
       "<div>\n",
       "<style scoped>\n",
       "    .dataframe tbody tr th:only-of-type {\n",
       "        vertical-align: middle;\n",
       "    }\n",
       "\n",
       "    .dataframe tbody tr th {\n",
       "        vertical-align: top;\n",
       "    }\n",
       "\n",
       "    .dataframe thead th {\n",
       "        text-align: right;\n",
       "    }\n",
       "</style>\n",
       "<table border=\"1\" class=\"dataframe\">\n",
       "  <thead>\n",
       "    <tr style=\"text-align: right;\">\n",
       "      <th></th>\n",
       "      <th>Age</th>\n",
       "      <th>Diabetes</th>\n",
       "      <th>Alcoholism</th>\n",
       "      <th>HyperTension</th>\n",
       "      <th>Smokes</th>\n",
       "      <th>Scholarship</th>\n",
       "      <th>Tuberculosis</th>\n",
       "      <th>Status</th>\n",
       "    </tr>\n",
       "  </thead>\n",
       "  <tbody>\n",
       "    <tr>\n",
       "      <th>0</th>\n",
       "      <td>19</td>\n",
       "      <td>0</td>\n",
       "      <td>0</td>\n",
       "      <td>0</td>\n",
       "      <td>0</td>\n",
       "      <td>0</td>\n",
       "      <td>0</td>\n",
       "      <td>1</td>\n",
       "    </tr>\n",
       "    <tr>\n",
       "      <th>1</th>\n",
       "      <td>24</td>\n",
       "      <td>0</td>\n",
       "      <td>0</td>\n",
       "      <td>0</td>\n",
       "      <td>0</td>\n",
       "      <td>0</td>\n",
       "      <td>0</td>\n",
       "      <td>1</td>\n",
       "    </tr>\n",
       "    <tr>\n",
       "      <th>2</th>\n",
       "      <td>4</td>\n",
       "      <td>0</td>\n",
       "      <td>0</td>\n",
       "      <td>0</td>\n",
       "      <td>0</td>\n",
       "      <td>0</td>\n",
       "      <td>0</td>\n",
       "      <td>1</td>\n",
       "    </tr>\n",
       "    <tr>\n",
       "      <th>3</th>\n",
       "      <td>5</td>\n",
       "      <td>0</td>\n",
       "      <td>0</td>\n",
       "      <td>0</td>\n",
       "      <td>0</td>\n",
       "      <td>0</td>\n",
       "      <td>0</td>\n",
       "      <td>1</td>\n",
       "    </tr>\n",
       "    <tr>\n",
       "      <th>4</th>\n",
       "      <td>38</td>\n",
       "      <td>0</td>\n",
       "      <td>0</td>\n",
       "      <td>0</td>\n",
       "      <td>0</td>\n",
       "      <td>0</td>\n",
       "      <td>0</td>\n",
       "      <td>1</td>\n",
       "    </tr>\n",
       "  </tbody>\n",
       "</table>\n",
       "</div>"
      ],
      "text/plain": [
       "   Age  Diabetes  Alcoholism  HyperTension  Smokes  Scholarship  Tuberculosis  \\\n",
       "0   19         0           0             0       0            0             0   \n",
       "1   24         0           0             0       0            0             0   \n",
       "2    4         0           0             0       0            0             0   \n",
       "3    5         0           0             0       0            0             0   \n",
       "4   38         0           0             0       0            0             0   \n",
       "\n",
       "   Status  \n",
       "0       1  \n",
       "1       1  \n",
       "2       1  \n",
       "3       1  \n",
       "4       1  "
      ]
     },
     "execution_count": 83,
     "metadata": {},
     "output_type": "execute_result"
    }
   ],
   "source": [
    "finalfeatures=['Age','Diabetes','Alcoholism','HyperTension','Smokes','Scholarship','Tuberculosis','Status']\n",
    "newdf=df[finalfeatures]\n",
    "newdf.head()"
   ]
  },
  {
   "cell_type": "code",
   "execution_count": 84,
   "metadata": {},
   "outputs": [],
   "source": [
    "from sklearn.model_selection import train_test_split\n",
    "\n",
    "# Putting feature variable to X\n",
    "X = newdf.drop(['Status'],axis=1)\n",
    "# Putting response variable to y\n",
    "y = newdf['Status']\n",
    "X_train, X_test, y_train, y_test = train_test_split(X,y, train_size=0.7,test_size=0.3,random_state=100)"
   ]
  },
  {
   "cell_type": "code",
   "execution_count": 85,
   "metadata": {},
   "outputs": [
    {
     "name": "stdout",
     "output_type": "stream",
     "text": [
      "Number transactions X_train dataset:  (209492, 7)\n",
      "Number transactions y_train dataset:  (209492,)\n",
      "Number transactions X_test dataset:  (89783, 7)\n",
      "Number transactions y_test dataset:  (89783,)\n"
     ]
    }
   ],
   "source": [
    "print(\"Number transactions X_train dataset: \", X_train.shape)\n",
    "print(\"Number transactions y_train dataset: \", y_train.shape)\n",
    "print(\"Number transactions X_test dataset: \", X_test.shape)\n",
    "print(\"Number transactions y_test dataset: \", y_test.shape)"
   ]
  },
  {
   "cell_type": "code",
   "execution_count": 87,
   "metadata": {},
   "outputs": [
    {
     "data": {
      "text/plain": [
       "GaussianNB(priors=None, var_smoothing=1e-09)"
      ]
     },
     "execution_count": 87,
     "metadata": {},
     "output_type": "execute_result"
    }
   ],
   "source": [
    "#Import Gaussian Naive Bayes model\n",
    "from sklearn.naive_bayes import GaussianNB\n",
    "#Create a Gaussian Classifier\n",
    "model = GaussianNB()\n",
    "# Train the model using the training sets\n",
    "model.fit(X_train,y_train)"
   ]
  },
  {
   "cell_type": "code",
   "execution_count": 90,
   "metadata": {},
   "outputs": [
    {
     "data": {
      "text/plain": [
       "(89783, 1)"
      ]
     },
     "execution_count": 90,
     "metadata": {},
     "output_type": "execute_result"
    }
   ],
   "source": [
    "y_pred=model.predict(X_test)\n",
    "Y_pred=pd.DataFrame(y_pred)\n",
    "Y_pred.shape"
   ]
  },
  {
   "cell_type": "code",
   "execution_count": 93,
   "metadata": {},
   "outputs": [
    {
     "name": "stdout",
     "output_type": "stream",
     "text": [
      "[[ 3880 23212]\n",
      " [ 6857 55834]] \n",
      "\n",
      "accuracy 0.6650925008075025\n",
      "precision 0.7063482023125774\n",
      "recall 0.8906222583783956\n",
      "Sensitivity 0.8906222583783956\n",
      "Positive Predection Rate 0.7063482023125774\n",
      "Negative Predection rate 0.3613672347955667\n",
      "False positive Predection Rate 0.8567842905654806\n"
     ]
    }
   ],
   "source": [
    "from sklearn import metrics\n",
    "from sklearn.metrics import classification_report,confusion_matrix\n",
    "print(metrics.confusion_matrix(y_test, Y_pred), \"\\n\")\n",
    "print(\"accuracy\", metrics.accuracy_score(y_test, Y_pred))\n",
    "print(\"precision\", metrics.precision_score(y_test,Y_pred))\n",
    "print(\"recall\", metrics.recall_score(y_test,Y_pred))\n",
    "confusion=confusion_matrix(y_test,Y_pred)    \n",
    "TP = confusion[1,1] # true positive \n",
    "TN = confusion[0,0] # true negatives\n",
    "FP = confusion[0,1] # false positives\n",
    "FN = confusion[1,0] # false negatives\n",
    "# Let's see the sensitivity of our logistic regression model\n",
    "print(\"Sensitivity\",TP / float(TP+FN))\n",
    "# positive predictive value \n",
    "print (\"Positive Predection Rate\",TP / float(TP+FP))\n",
    "# Negative predictive value\n",
    "print (\"Negative Predection rate\",TN / float(TN+ FN))\n",
    "# Calculate false postive rate - predicting churn when customer does not have churned\n",
    "print(\"False positive Predection Rate\",FP/ float(TN+FP))"
   ]
  },
  {
   "cell_type": "code",
   "execution_count": null,
   "metadata": {},
   "outputs": [],
   "source": []
  }
 ],
 "metadata": {
  "kernelspec": {
   "display_name": "Python 3",
   "language": "python",
   "name": "python3"
  },
  "language_info": {
   "codemirror_mode": {
    "name": "ipython",
    "version": 3
   },
   "file_extension": ".py",
   "mimetype": "text/x-python",
   "name": "python",
   "nbconvert_exporter": "python",
   "pygments_lexer": "ipython3",
   "version": "3.6.8"
  }
 },
 "nbformat": 4,
 "nbformat_minor": 2
}
